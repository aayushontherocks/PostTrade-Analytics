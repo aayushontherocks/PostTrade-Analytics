{
 "cells": [
  {
   "cell_type": "code",
   "execution_count": null,
   "id": "e63d3f28",
   "metadata": {
    "scrolled": true
   },
   "outputs": [],
   "source": [
    "import os\n",
    "import pandas as pd\n",
    "from api import get_db_connection   # make sure api.py uses os.environ[\"DATABASE_URL\"]\n",
    "\n",
    "print(\"✅ Environment ready\")\n"
   ]
  },
  {
   "cell_type": "code",
   "execution_count": null,
   "id": "30e7216e",
   "metadata": {},
   "outputs": [],
   "source": [
    "import os, psycopg2\n",
    "\n",
    "def get_db_connection():\n",
    "    return psycopg2.connect(os.environ[\"DATABASE_URL\"])\n"
   ]
  },
  {
   "cell_type": "code",
   "execution_count": null,
   "id": "54867edb",
   "metadata": {},
   "outputs": [],
   "source": [
    "reset_sql = \"\"\"\n",
    "DROP TABLE IF EXISTS trades CASCADE;\n",
    "\n",
    "CREATE TABLE trades (\n",
    "    id SERIAL PRIMARY KEY,\n",
    "    trade_id VARCHAR(32) UNIQUE NOT NULL,\n",
    "    symbol VARCHAR(16) NOT NULL,\n",
    "    quantity INTEGER NOT NULL,\n",
    "    price NUMERIC(18,6) NOT NULL,\n",
    "    trade_currency VARCHAR(8) NOT NULL,\n",
    "    trade_date TIMESTAMP NOT NULL,\n",
    "    settlement_date TIMESTAMP NOT NULL,\n",
    "    actual_settlement_date TIMESTAMP NULL,\n",
    "    buyer_id VARCHAR(32) NOT NULL,\n",
    "    seller_id VARCHAR(32) NOT NULL,\n",
    "    status VARCHAR(16) NOT NULL,\n",
    "    failure_reason VARCHAR(64),\n",
    "    value_at_risk NUMERIC(18,6),\n",
    "    is_margin_trade BOOLEAN NOT NULL DEFAULT FALSE,\n",
    "    created_at TIMESTAMP NOT NULL DEFAULT NOW()\n",
    ");\n",
    "\"\"\"\n",
    "\n",
    "with get_db_connection() as conn, conn.cursor() as cur:\n",
    "    cur.execute(reset_sql)\n",
    "    conn.commit()\n",
    "\n",
    "print(\"✅ trades table dropped & recreated fresh (Render DB)\")\n"
   ]
  },
  {
   "cell_type": "code",
   "execution_count": null,
   "id": "77423c7b",
   "metadata": {},
   "outputs": [],
   "source": [
    "# ========== Cell 2: Start Docker ==========\n",
    "try:\n",
    "    subprocess.run([\"docker-compose\", \"up\", \"-d\"], check=True)\n",
    "    print(\"🐳 Docker containers up\")\n",
    "    time.sleep(5)\n",
    "except Exception as e:\n",
    "    print(\"⚠️ Could not start docker-compose:\", e)\n"
   ]
  },
  {
   "cell_type": "code",
   "execution_count": null,
   "id": "11d46e41",
   "metadata": {},
   "outputs": [],
   "source": [
    "# ========== GENERATE SMART TRADES ==========\n",
    "from smart_data_generator import generate_smart_trades\n",
    "\n",
    "generate_smart_trades(2000)   # you can change the number here\n",
    "\n",
    "with get_db_connection() as conn:\n",
    "    import pandas as pd\n",
    "    df = pd.read_sql(\n",
    "        \"SELECT COUNT(*) AS total, COUNT(*) FILTER (WHERE status='FAILED') AS failed FROM trades;\",\n",
    "        conn\n",
    "    )\n",
    "df\n"
   ]
  },
  {
   "cell_type": "code",
   "execution_count": null,
   "id": "099c8eeb",
   "metadata": {},
   "outputs": [],
   "source": [
    "# ========== Cell 5: Optimize DB ==========\n",
    "from optimizing_db import optimize_db\n",
    "\n",
    "optimize_db()\n"
   ]
  },
  {
   "cell_type": "code",
   "execution_count": null,
   "id": "ad2bfaf1",
   "metadata": {},
   "outputs": [],
   "source": [
    "import importlib, trade_analysis\n",
    "importlib.reload(trade_analysis)\n",
    "\n",
    "from trade_analysis import TradeAnalyzer\n",
    "\n",
    "analyzer = TradeAnalyzer()\n",
    "df = analyzer.load_all_trades()\n",
    "display(df.head())\n",
    "\n",
    "analyzer.generate_report()\n",
    "analyzer.plot_analysis()\n"
   ]
  },
  {
   "cell_type": "code",
   "execution_count": null,
   "id": "491961f7",
   "metadata": {},
   "outputs": [],
   "source": [
    "# ========== Cell 7A: Train ML Failure Predictor (Random Forest) ==========\n",
    "import pandas as pd\n",
    "from sklearn.model_selection import train_test_split\n",
    "from sklearn.ensemble import RandomForestClassifier\n",
    "from sklearn.metrics import classification_report, confusion_matrix\n",
    "import pickle\n",
    "\n",
    "# 1. Load data from DB\n",
    "with get_db_connection() as conn:\n",
    "    df = pd.read_sql(\"\"\"\n",
    "        SELECT quantity, price, is_margin_trade, value_at_risk, status\n",
    "        FROM trades\n",
    "        \"\"\", conn)\n",
    "\n",
    "# 2. Create target (1 = FAILED, 0 = not failed)\n",
    "df['failed'] = (df['status'] == 'FAILED').astype(int)\n",
    "\n",
    "# 3. Feature engineering\n",
    "df['trade_value'] = df['quantity'] * df['price']   # interaction feature\n",
    "X = df[['quantity', 'price', 'is_margin_trade', 'value_at_risk', 'trade_value']]\n",
    "y = df['failed']\n",
    "\n",
    "# 4. Train/test split\n",
    "X_train, X_test, y_train, y_test = train_test_split(\n",
    "    X, y, test_size=0.2, random_state=42, stratify=y\n",
    ")\n",
    "\n",
    "# 5. Train Random Forest\n",
    "model = RandomForestClassifier(\n",
    "    n_estimators=200,       # number of trees\n",
    "    max_depth=10,           # limit depth\n",
    "    min_samples_split=5,    # prevent overfitting\n",
    "    random_state=42,\n",
    "    n_jobs=-1\n",
    ")\n",
    "model.fit(X_train, y_train)\n",
    "\n",
    "# 6. Evaluate\n",
    "y_pred = model.predict(X_test)\n",
    "print(\"✅ Model trained with Random Forest\")\n",
    "print(\"\\nConfusion Matrix:\\n\", confusion_matrix(y_test, y_pred))\n",
    "print(\"\\nClassification Report:\\n\", classification_report(y_test, y_pred))\n",
    "\n",
    "# 7. Save to pickle\n",
    "with open(\"failure_predictor.pkl\", \"wb\") as f:\n",
    "    pickle.dump(model, f)\n",
    "\n",
    "print(\"💾 Random Forest model saved as failure_predictor.pkl\")\n"
   ]
  },
  {
   "cell_type": "code",
   "execution_count": null,
   "id": "f64e4569",
   "metadata": {},
   "outputs": [],
   "source": [
    "# ========== Cell 7B: Use Trained Random Forest Model ==========\n",
    "import pickle\n",
    "\n",
    "# 1. Load model\n",
    "with open(\"failure_predictor.pkl\", \"rb\") as f:\n",
    "    model = pickle.load(f)\n",
    "\n",
    "# 2. Grab some trades to test predictions\n",
    "with get_db_connection() as conn:\n",
    "    df = pd.read_sql(\"\"\"\n",
    "        SELECT trade_id, symbol, quantity, price, is_margin_trade, value_at_risk, status\n",
    "        FROM trades\n",
    "        LIMIT 200\n",
    "        \"\"\", conn)\n",
    "\n",
    "# 3. Feature engineering (must match training!)\n",
    "df['trade_value'] = df['quantity'] * df['price']\n",
    "X = df[['quantity', 'price', 'is_margin_trade', 'value_at_risk', 'trade_value']]\n",
    "\n",
    "# 4. Predict\n",
    "df['pred_failed'] = model.predict(X)\n",
    "df['pred_prob_failed'] = model.predict_proba(X)[:,1]  # probability of failure\n",
    "\n",
    "# 5. Show results\n",
    "display(df.head(20))\n"
   ]
  },
  {
   "cell_type": "code",
   "execution_count": null,
   "id": "7b3f1492",
   "metadata": {},
   "outputs": [],
   "source": [
    "# ========== Cell 8: Visualize Trade Failure Predictions ==========\n",
    "\n",
    "import matplotlib.pyplot as plt\n",
    "\n",
    "# Distribution of predicted failures\n",
    "df['pred_failed'].value_counts().plot(kind='bar', color=['green', 'red'])\n",
    "plt.xticks([0,1], ['Not Failed', 'Predicted Failed'], rotation=0)\n",
    "plt.title(\"Predicted Trade Failures\")\n",
    "plt.xlabel(\"Prediction\")\n",
    "plt.ylabel(\"Count\")\n",
    "plt.show()\n",
    "\n",
    "# Probability histogram\n",
    "plt.hist(df['pred_prob_failed'], bins=20, color='blue', edgecolor='black')\n",
    "plt.title(\"Predicted Failure Probability Distribution\")\n",
    "plt.xlabel(\"Failure Probability\")\n",
    "plt.ylabel(\"Number of Trades\")\n",
    "plt.show()\n"
   ]
  },
  {
   "cell_type": "code",
   "execution_count": null,
   "id": "ada87d48",
   "metadata": {},
   "outputs": [],
   "source": []
  }
 ],
 "metadata": {
  "kernelspec": {
   "display_name": "Python 3 (ipykernel)",
   "language": "python",
   "name": "python3"
  },
  "language_info": {
   "codemirror_mode": {
    "name": "ipython",
    "version": 3
   },
   "file_extension": ".py",
   "mimetype": "text/x-python",
   "name": "python",
   "nbconvert_exporter": "python",
   "pygments_lexer": "ipython3",
   "version": "3.11.7"
  }
 },
 "nbformat": 4,
 "nbformat_minor": 5
}
